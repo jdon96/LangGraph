{
 "cells": [
  {
   "cell_type": "code",
   "execution_count": 6,
   "id": "f8dfcb28",
   "metadata": {},
   "outputs": [],
   "source": [
    "from typing import Dict, TypedDict, List\n",
    "import decimal\n",
    "from langgraph.graph import StateGraph"
   ]
  },
  {
   "cell_type": "code",
   "execution_count": 3,
   "id": "ac056e90",
   "metadata": {},
   "outputs": [],
   "source": [
    "class AgentState(TypedDict):\n",
    "    result: str\n",
    "    balance: decimal\n",
    "    payments: List[decimal]\n",
    "    isBill: bool\n",
    "    "
   ]
  },
  {
   "cell_type": "code",
   "execution_count": 18,
   "id": "3b864124",
   "metadata": {},
   "outputs": [],
   "source": [
    "def payment_node(state:AgentState) -> AgentState:\n",
    "    totalPayment = sum(state[\"payments\"])\n",
    "    if state[\"isBill\"] is True:\n",
    "        state[\"balance\"] = state[\"balance\"] - totalPayment\n",
    "    else:\n",
    "        state[\"balance\"] = state[\"balance\"] + totalPayment\n",
    "    state[\"result\"] = \"Your updated balance is: £\" + str(state[\"balance\"]) + \".\"\n",
    "    return state"
   ]
  },
  {
   "cell_type": "code",
   "execution_count": 19,
   "id": "b7b89c60",
   "metadata": {},
   "outputs": [],
   "source": [
    "graph = StateGraph(AgentState)\n",
    "graph.add_node(\"payment_node\", payment_node)\n",
    "graph.set_entry_point(\"payment_node\")\n",
    "graph.set_finish_point(\"payment_node\")\n",
    "app = graph.compile()"
   ]
  },
  {
   "cell_type": "code",
   "execution_count": 9,
   "id": "d96b8fbe",
   "metadata": {},
   "outputs": [
    {
     "data": {
      "image/png": "[encoded data removed]",
      "text/plain": [
       "<IPython.core.display.Image object>"
      ]
     },
     "metadata": {},
     "output_type": "display_data"
    }
   ],
   "source": [
    "from IPython.display import Image, display\n",
    "display(Image(app.get_graph().draw_mermaid_png()))"
   ]
  },
  {
   "cell_type": "code",
   "execution_count": 21,
   "id": "41c409ee",
   "metadata": {},
   "outputs": [
    {
     "name": "stdout",
     "output_type": "stream",
     "text": [
      "Your updated balance is: £1149.5.\n"
     ]
    }
   ],
   "source": [
    "result = app.invoke({\"balance\":2500, \"payments\":[250, 100.50, 1000], \"isBill\":True})\n",
    "\n",
    "print(result[\"result\"])"
   ]
  }
 ],
 "metadata": {
  "kernelspec": {
   "display_name": ".venv",
   "language": "python",
   "name": "python3"
  },
  "language_info": {
   "codemirror_mode": {
    "name": "ipython",
    "version": 3
   },
   "file_extension": ".py",
   "mimetype": "text/x-python",
   "name": "python",
   "nbconvert_exporter": "python",
   "pygments_lexer": "ipython3",
   "version": "3.12.3"
  }
 },
 "nbformat": 4,
 "nbformat_minor": 5
}
