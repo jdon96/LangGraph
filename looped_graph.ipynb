{
 "cells": [
  {
   "cell_type": "code",
   "execution_count": 133,
   "id": "68e3a097",
   "metadata": {},
   "outputs": [],
   "source": [
    "from typing import Dict, TypedDict, List\n",
    "from langgraph.graph import StateGraph, START, END\n",
    "import random"
   ]
  },
  {
   "cell_type": "code",
   "execution_count": 134,
   "id": "0445d126",
   "metadata": {},
   "outputs": [],
   "source": [
    "class AgentState(TypedDict):\n",
    "    guesses: List[int]\n",
    "    upper_bound: int\n",
    "    lower_bound: int\n",
    "    name: str\n",
    "    attempts: int\n",
    "    result : str\n",
    "    target : int"
   ]
  },
  {
   "cell_type": "code",
   "execution_count": 135,
   "id": "a4e855c9",
   "metadata": {},
   "outputs": [],
   "source": [
    "def setup_node(state:AgentState) -> AgentState:\n",
    "    state[\"guesses\"] = []\n",
    "    state[\"attempts\"] = 0\n",
    "    state[\"target\"] = random.randint(state[\"lower_bound\"], state[\"upper_bound\"])\n",
    "    state[\"result\"] = f\"Hi {state[\"name\"]}, I am thinking of a number...\\n Got it, let the game begin!\"\n",
    "    print(state)\n",
    "    return state"
   ]
  },
  {
   "cell_type": "code",
   "execution_count": 136,
   "id": "1ea8501b",
   "metadata": {},
   "outputs": [],
   "source": [
    "def guess_node(state:AgentState) -> AgentState:\n",
    "    if state[\"lower_bound\"] == state[\"upper_bound\"]:\n",
    "        guess = state[\"upper_bound\"]\n",
    "    else:\n",
    "        guess = random.randint(state[\"lower_bound\"], state[\"upper_bound\"])\n",
    "    state[\"guesses\"].append(guess)\n",
    "    state[\"attempts\"] = state[\"attempts\"] + 1\n",
    "    state[\"result\"] = state[\"result\"] + f\"\\nI have guessed: {guess}\"\n",
    "    print(state)\n",
    "    return state"
   ]
  },
  {
   "cell_type": "code",
   "execution_count": 137,
   "id": "b70718ec",
   "metadata": {},
   "outputs": [],
   "source": [
    "def checker_node(state:AgentState) -> AgentState:\n",
    "    latest_guess = state[\"guesses\"][-1]\n",
    "    if latest_guess == state[\"target\"]:\n",
    "        state[\"result\"] = state[\"result\"] + f\"\\n Correct. Game over!\"\n",
    "    elif latest_guess > state[\"target\"]:\n",
    "        state[\"upper_bound\"] = min(latest_guess -1, state[\"upper_bound\"])\n",
    "        state[\"result\"] = state[\"result\"] + f\"\\n Wrong! Too high\"\n",
    "    elif latest_guess < state[\"target\"]:\n",
    "        state[\"lower_bound\"] = max(latest_guess +1,state[\"target\"])\n",
    "        state[\"result\"] = state[\"result\"] + f\"\\n Wrong! Too low\"\n",
    "    return state\n",
    "    "
   ]
  },
  {
   "cell_type": "code",
   "execution_count": 138,
   "id": "7a40a1f2",
   "metadata": {},
   "outputs": [],
   "source": [
    "def should_continue(state:AgentState) -> AgentState:\n",
    "    latest_guess = state[\"guesses\"][-1]\n",
    "    if latest_guess == state[\"target\"]:\n",
    "        return \"exit\"\n",
    "    elif state[\"attempts\"] == 7:\n",
    "        print(\"Too many guesses\")\n",
    "        return \"exit\"\n",
    "    return \"loop\"\n",
    "        "
   ]
  },
  {
   "cell_type": "code",
   "execution_count": 139,
   "id": "003e9978",
   "metadata": {},
   "outputs": [],
   "source": [
    "graph = StateGraph(AgentState)\n",
    "graph.add_node(\"setup_node\", setup_node)\n",
    "graph.add_node(\"guess_node\", guess_node)\n",
    "graph.add_node(\"checker_node\", checker_node)\n",
    "graph.add_edge(START, \"setup_node\")\n",
    "graph.add_edge(\"setup_node\",\"guess_node\")\n",
    "graph.add_edge(\"guess_node\", \"checker_node\")\n",
    "graph.add_conditional_edges(\n",
    "    \"checker_node\",\n",
    "    should_continue,\n",
    "    {\n",
    "        \"loop\" : \"guess_node\",\n",
    "        \"exit\" : END\n",
    "    }\n",
    ")\n",
    "app = graph.compile()"
   ]
  },
  {
   "cell_type": "code",
   "execution_count": 140,
   "id": "7e9fb4ce",
   "metadata": {},
   "outputs": [
    {
     "data": {
      "image/png": "[encoded data removed]",
      "text/plain": [
       "<IPython.core.display.Image object>"
      ]
     },
     "metadata": {},
     "output_type": "display_data"
    }
   ],
   "source": [
    "from IPython.display import Image, display\n",
    "display(Image(app.get_graph().draw_mermaid_png()))"
   ]
  },
  {
   "cell_type": "code",
   "execution_count": 157,
   "id": "47c6bb3a",
   "metadata": {},
   "outputs": [
    {
     "name": "stdout",
     "output_type": "stream",
     "text": [
      "{'upper_bound': 100, 'lower_bound': 1, 'name': 'Jack', 'guesses': [], 'attempts': 0, 'target': 1, 'result': 'Hi Jack, I am thinking of a number...\\n Got it, let the game begin!'}\n",
      "{'guesses': [100], 'upper_bound': 100, 'lower_bound': 1, 'name': 'Jack', 'attempts': 1, 'result': 'Hi Jack, I am thinking of a number...\\n Got it, let the game begin!\\nI have guessed: 100', 'target': 1}\n",
      "{'guesses': [100, 65], 'upper_bound': 99, 'lower_bound': 1, 'name': 'Jack', 'attempts': 2, 'result': 'Hi Jack, I am thinking of a number...\\n Got it, let the game begin!\\nI have guessed: 100\\n Wrong! Too high\\nI have guessed: 65', 'target': 1}\n",
      "{'guesses': [100, 65, 60], 'upper_bound': 64, 'lower_bound': 1, 'name': 'Jack', 'attempts': 3, 'result': 'Hi Jack, I am thinking of a number...\\n Got it, let the game begin!\\nI have guessed: 100\\n Wrong! Too high\\nI have guessed: 65\\n Wrong! Too high\\nI have guessed: 60', 'target': 1}\n",
      "{'guesses': [100, 65, 60, 17], 'upper_bound': 59, 'lower_bound': 1, 'name': 'Jack', 'attempts': 4, 'result': 'Hi Jack, I am thinking of a number...\\n Got it, let the game begin!\\nI have guessed: 100\\n Wrong! Too high\\nI have guessed: 65\\n Wrong! Too high\\nI have guessed: 60\\n Wrong! Too high\\nI have guessed: 17', 'target': 1}\n",
      "{'guesses': [100, 65, 60, 17, 7], 'upper_bound': 16, 'lower_bound': 1, 'name': 'Jack', 'attempts': 5, 'result': 'Hi Jack, I am thinking of a number...\\n Got it, let the game begin!\\nI have guessed: 100\\n Wrong! Too high\\nI have guessed: 65\\n Wrong! Too high\\nI have guessed: 60\\n Wrong! Too high\\nI have guessed: 17\\n Wrong! Too high\\nI have guessed: 7', 'target': 1}\n",
      "{'guesses': [100, 65, 60, 17, 7, 6], 'upper_bound': 6, 'lower_bound': 1, 'name': 'Jack', 'attempts': 6, 'result': 'Hi Jack, I am thinking of a number...\\n Got it, let the game begin!\\nI have guessed: 100\\n Wrong! Too high\\nI have guessed: 65\\n Wrong! Too high\\nI have guessed: 60\\n Wrong! Too high\\nI have guessed: 17\\n Wrong! Too high\\nI have guessed: 7\\n Wrong! Too high\\nI have guessed: 6', 'target': 1}\n",
      "{'guesses': [100, 65, 60, 17, 7, 6, 4], 'upper_bound': 5, 'lower_bound': 1, 'name': 'Jack', 'attempts': 7, 'result': 'Hi Jack, I am thinking of a number...\\n Got it, let the game begin!\\nI have guessed: 100\\n Wrong! Too high\\nI have guessed: 65\\n Wrong! Too high\\nI have guessed: 60\\n Wrong! Too high\\nI have guessed: 17\\n Wrong! Too high\\nI have guessed: 7\\n Wrong! Too high\\nI have guessed: 6\\n Wrong! Too high\\nI have guessed: 4', 'target': 1}\n",
      "Too many guesses\n",
      "Hi Jack, I am thinking of a number...\n",
      " Got it, let the game begin!\n",
      "I have guessed: 100\n",
      " Wrong! Too high\n",
      "I have guessed: 65\n",
      " Wrong! Too high\n",
      "I have guessed: 60\n",
      " Wrong! Too high\n",
      "I have guessed: 17\n",
      " Wrong! Too high\n",
      "I have guessed: 7\n",
      " Wrong! Too high\n",
      "I have guessed: 6\n",
      " Wrong! Too high\n",
      "I have guessed: 4\n",
      " Wrong! Too high\n"
     ]
    }
   ],
   "source": [
    "answer = app.invoke({\"name\":\"Jack\", \"upper_bound\":100, \"lower_bound\":1})\n",
    "\n",
    "print(answer[\"result\"])"
   ]
  }
 ],
 "metadata": {
  "kernelspec": {
   "display_name": ".venv",
   "language": "python",
   "name": "python3"
  },
  "language_info": {
   "codemirror_mode": {
    "name": "ipython",
    "version": 3
   },
   "file_extension": ".py",
   "mimetype": "text/x-python",
   "name": "python",
   "nbconvert_exporter": "python",
   "pygments_lexer": "ipython3",
   "version": "3.12.3"
  }
 },
 "nbformat": 4,
 "nbformat_minor": 5
}
