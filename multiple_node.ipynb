{
 "cells": [
  {
   "cell_type": "code",
   "execution_count": 39,
   "id": "dd1c96c4",
   "metadata": {},
   "outputs": [],
   "source": [
    "from typing import Dict, TypedDict\n",
    "import decimal\n",
    "from langgraph.graph import StateGraph"
   ]
  },
  {
   "cell_type": "code",
   "execution_count": 40,
   "id": "e3139ce7",
   "metadata": {},
   "outputs": [],
   "source": [
    "class AgentState(TypedDict):\n",
    "    name : str\n",
    "    balance : decimal\n",
    "    transaction_value : decimal\n",
    "    result: str"
   ]
  },
  {
   "cell_type": "code",
   "execution_count": 41,
   "id": "137cd971",
   "metadata": {},
   "outputs": [],
   "source": [
    "def bank_teller_node(state: AgentState) -> AgentState:\n",
    "    state[\"result\"] = f\"Hi {state[\"name\"]}, Your current balance is: £{state[\"balance\"]}.\"\n",
    "    return state"
   ]
  },
  {
   "cell_type": "code",
   "execution_count": 42,
   "id": "a6f10456",
   "metadata": {},
   "outputs": [],
   "source": [
    "def transaction_node(state:AgentState) -> AgentState:\n",
    "    state[\"result\"] = state[\"result\"] + f\"\\nTransaction of £{state[\"transaction_value\"]} recieved. Processing Payment...\"\n",
    "    state[\"balance\"] = state[\"balance\"] - state[\"transaction_value\"]\n",
    "    state[\"result\"] = state[\"result\"] + f\"\\nPayment processed. Your new balance is: £{state[\"balance\"]}.\"\n",
    "    return state"
   ]
  },
  {
   "cell_type": "code",
   "execution_count": 43,
   "id": "64691dcf",
   "metadata": {},
   "outputs": [],
   "source": [
    "graph = StateGraph(AgentState)\n",
    "graph.add_node(\"bank_teller_node\", bank_teller_node)\n",
    "graph.add_node(\"transaction_node\", transaction_node)\n",
    "graph.set_entry_point(\"bank_teller_node\")\n",
    "graph.set_finish_point(\"transaction_node\")\n",
    "graph.add_edge(\"bank_teller_node\", \"transaction_node\")\n",
    "app = graph.compile()"
   ]
  },
  {
   "cell_type": "code",
   "execution_count": 44,
   "id": "3055981b",
   "metadata": {},
   "outputs": [
    {
     "data": {
      "image/png": "[encoded data removed]",
      "text/plain": [
       "<IPython.core.display.Image object>"
      ]
     },
     "metadata": {},
     "output_type": "display_data"
    }
   ],
   "source": [
    "from IPython.display import Image, display\n",
    "display(Image(app.get_graph().draw_mermaid_png()))"
   ]
  },
  {
   "cell_type": "code",
   "execution_count": null,
   "id": "4d18633e",
   "metadata": {},
   "outputs": [
    {
     "name": "stdout",
     "output_type": "stream",
     "text": [
      "Hi Jack, Your current balance is: £2500.\n",
      "Transaction of £200 recieved. Processing Payment...\n",
      "Payment processed. Your new balance is: £2300.\n"
     ]
    }
   ],
   "source": [
    "answer = app.invoke({\"balance\":2500, \"transaction_value\":200, \"name\":\"Jack\"})\n",
    "\n",
    "print(answer[\"result\"])"
   ]
  }
 ],
 "metadata": {
  "kernelspec": {
   "display_name": ".venv",
   "language": "python",
   "name": "python3"
  },
  "language_info": {
   "codemirror_mode": {
    "name": "ipython",
    "version": 3
   },
   "file_extension": ".py",
   "mimetype": "text/x-python",
   "name": "python",
   "nbconvert_exporter": "python",
   "pygments_lexer": "ipython3",
   "version": "3.12.3"
  }
 },
 "nbformat": 4,
 "nbformat_minor": 5
}
